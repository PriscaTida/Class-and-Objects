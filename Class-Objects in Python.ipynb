{
 "cells": [
  {
   "cell_type": "code",
   "execution_count": 46,
   "id": "df06ae22",
   "metadata": {},
   "outputs": [
    {
     "data": {
      "text/plain": [
       "'(1,2,3)'"
      ]
     },
     "execution_count": 46,
     "metadata": {},
     "output_type": "execute_result"
    }
   ],
   "source": [
    "#Question 1\n",
    "class Point3D:\n",
    "    def __init__(self, x, y, z):\n",
    "        self.x = x\n",
    "        self.y = y\n",
    "        self.z = z\n",
    "        \n",
    "    def method(self):\n",
    "        return \"(\"+str(self.x)+\",\"+str(self.y)+\",\"+str(self.z)+\")\"\n",
    "\n",
    "my_point = Point3D(1, 2, 3)\n",
    "my_point.method()"
   ]
  },
  {
   "cell_type": "code",
   "execution_count": 48,
   "id": "3f77fcb6",
   "metadata": {},
   "outputs": [
    {
     "name": "stdout",
     "output_type": "stream",
     "text": [
      "The area is: 12\n",
      "The perimeter is: 14\n"
     ]
    }
   ],
   "source": [
    "#Question 2\n",
    "class Rectangle:\n",
    "    def __init__(self,length,width):\n",
    "        self.length = length\n",
    "        self.width = width\n",
    "        \n",
    "    def area(self):\n",
    "        return self.length*self.width\n",
    "    \n",
    "    def perimeter(self):\n",
    "        return 2*(self.length+self.width)\n",
    "    \n",
    "my_rectangle = Rectangle(3,4)\n",
    "print(\"The area is:\",my_rectangle.area())\n",
    "print(\"The perimeter is:\",my_rectangle.perimeter())"
   ]
  },
  {
   "cell_type": "code",
   "execution_count": 50,
   "id": "73d1ac6f",
   "metadata": {},
   "outputs": [
    {
     "name": "stdout",
     "output_type": "stream",
     "text": [
      "The area of the circle is 28.26\n",
      "The perimeter of the circle is 18.84\n",
      "The point A( 1 , 1 ) belongs to the circle\n"
     ]
    }
   ],
   "source": [
    "#Question 3\n",
    "class Circle:\n",
    "    def __init__(self,x_O,y_O,r):\n",
    "        self.x_O = x_O       #O(x_O,y_O)\n",
    "        self.y_O = y_O\n",
    "        self.r = r\n",
    "        \n",
    "    def area(self):\n",
    "        return 3.14*(self.r)**2\n",
    "    \n",
    "    def perimeter(self):\n",
    "        return 2*3.14*self.r\n",
    "    \n",
    "    def isInside(self,x,y):\n",
    "        if (x - self.x_O)**2 + (y - self.y_O)**2 <= r * r:\n",
    "            return \"belongs to the circle\";\n",
    "        else:\n",
    "            return \"does not belong to the circle\";\n",
    "\n",
    "    \n",
    "test = Circle(1,1,3)\n",
    "x = 1\n",
    "y = 1\n",
    "print(\"The area of the circle is\",test.area())\n",
    "print(\"The perimeter of the circle is\",test.perimeter())\n",
    "print(\"The point A(\",x,\",\",y,\")\",test.isInside(x,y))"
   ]
  },
  {
   "cell_type": "code",
   "execution_count": 43,
   "id": "54467925",
   "metadata": {},
   "outputs": [
    {
     "name": "stdout",
     "output_type": "stream",
     "text": [
      "Enter amount to be deposited: 120\n",
      "Amount Deposited:  120.0\n",
      "Enter amount to withdraw: 0\n",
      "New Balance= 620.0\n"
     ]
    }
   ],
   "source": [
    "#Question 4\n",
    "class Bank:\n",
    "    def __init__(self,balance):\n",
    "        self.balance=balance\n",
    "        \n",
    "    def deposit(self):\n",
    "        amount=float(input(\"Enter amount to be deposited: \"))\n",
    "        self.balance = self.balance+ amount\n",
    "        print(\"Amount Deposited: \",amount)\n",
    "        \n",
    "    def withdraw(self):\n",
    "        amount = float(input(\"Enter amount to withdraw: \"))\n",
    "        self.balance = self.balance - amount\n",
    "        \n",
    "    def display(self):\n",
    "        print(\"New Balance=\",self.balance)\n",
    "\n",
    "s = Bank(500)\n",
    "#calling functions with that class\n",
    "s.deposit()\n",
    "s.withdraw()\n",
    "s.display()"
   ]
  },
  {
   "cell_type": "code",
   "execution_count": null,
   "id": "99a290bc",
   "metadata": {},
   "outputs": [],
   "source": []
  },
  {
   "cell_type": "code",
   "execution_count": null,
   "id": "88098514",
   "metadata": {},
   "outputs": [],
   "source": []
  }
 ],
 "metadata": {
  "kernelspec": {
   "display_name": "Python 3 (ipykernel)",
   "language": "python",
   "name": "python3"
  },
  "language_info": {
   "codemirror_mode": {
    "name": "ipython",
    "version": 3
   },
   "file_extension": ".py",
   "mimetype": "text/x-python",
   "name": "python",
   "nbconvert_exporter": "python",
   "pygments_lexer": "ipython3",
   "version": "3.9.12"
  }
 },
 "nbformat": 4,
 "nbformat_minor": 5
}
